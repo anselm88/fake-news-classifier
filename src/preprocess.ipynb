{
 "cells": [
  {
   "cell_type": "code",
   "execution_count": 6,
   "metadata": {},
   "outputs": [
    {
     "name": "stdout",
     "output_type": "stream",
     "text": [
      "✅ Cleaned file saved → data/processed/news.parquet\n"
     ]
    }
   ],
   "source": [
    "import pandas as pd, re, string, nltk\n",
    "from nltk.corpus import stopwords\n",
    "nltk.download(\"stopwords\", quiet=True)\n",
    "\n",
    "def clean(txt):\n",
    "    txt = re.sub(r\"http\\S+|www\\S+\", \"\", txt.lower())\n",
    "    txt = re.sub(f\"[{re.escape(string.punctuation)}]\", \" \", txt)\n",
    "    return \" \".join(w for w in txt.split()\n",
    "                    if w not in stopwords.words(\"english\"))\n",
    "\n",
    "fake = pd.read_csv(\"../data/raw/Fake.csv\"); fake[\"label\"] = 1\n",
    "real = pd.read_csv(\"../data/raw/True.csv\"); real[\"label\"] = 0\n",
    "df = pd.concat([fake, real])[[\"title\", \"text\", \"label\"]]\n",
    "df[\"clean\"] = (df[\"title\"] + \" \" + df[\"text\"]).apply(clean)\n",
    "import os\n",
    "os.makedirs(\"data/processed\", exist_ok=True)\n",
    "df.to_parquet(\"data/processed/news.parquet\", index=False)\n",
    "print(\"✅ Cleaned file saved → data/processed/news.parquet\")"
   ]
  }
 ],
 "metadata": {
  "kernelspec": {
   "display_name": "fakenews",
   "language": "python",
   "name": "python3"
  },
  "language_info": {
   "codemirror_mode": {
    "name": "ipython",
    "version": 3
   },
   "file_extension": ".py",
   "mimetype": "text/x-python",
   "name": "python",
   "nbconvert_exporter": "python",
   "pygments_lexer": "ipython3",
   "version": "3.10.18"
  }
 },
 "nbformat": 4,
 "nbformat_minor": 2
}
